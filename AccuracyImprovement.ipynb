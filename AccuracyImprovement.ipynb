{
 "cells": [
  {
   "cell_type": "markdown",
   "metadata": {},
   "source": [
    "# SVM accurary improvement application, suggested by Burges and Schölkopf"
   ]
  },
  {
   "cell_type": "code",
   "execution_count": 10,
   "metadata": {},
   "outputs": [],
   "source": [
    "## Laboratory conditions for the implementation "
   ]
  },
  {
   "cell_type": "markdown",
   "metadata": {},
   "source": [
    "The implementation of the paper proposal is pretty straighforward. The algorithm of the method presented are as followed:\n",
    "    1) Load a 60,000 + 10,000 MNIST dataset\n",
    "    2) Do a first classic SVM fit with the training set\n",
    "    3) Gather the support vectors of the SVM to create artifial examples, by applying to our new training data a       \n",
    "       translation of the vectors by one pixel in each direction (up, down, left, right)\n",
    "    4) Apply the new training dataset to the another SVM with the same settings as the first one\n",
    "    \n",
    "The laboratory conditions of this experiment to replicate, are as followed:\n",
    "    - C constant must be equals to 10\n",
    "    - The kernel we will use be a polynomial (x,y) of degree 5\n",
    "    - We must use a 60,000 + 10,000 MNIST dataset"
   ]
  },
  {
   "cell_type": "markdown",
   "metadata": {},
   "source": [
    "## Import packages and librairies"
   ]
  },
  {
   "cell_type": "code",
   "execution_count": 11,
   "metadata": {},
   "outputs": [],
   "source": [
    "from sklearn.svm import SVC\n",
    "from sklearn.metrics import confusion_matrix\n",
    "from sklearn.metrics import classification_report\n",
    "from sklearn.metrics import accuracy_score\n",
    "import numpy as np\n",
    "import matplotlib.pyplot as plt\n",
    "import cv2\n",
    "import time\n",
    "\n"
   ]
  },
  {
   "cell_type": "code",
   "execution_count": 12,
   "metadata": {},
   "outputs": [],
   "source": [
    "# according to the experimental section of the paper,\n",
    "# C has for value 10 and they used a polynomial kernel \n",
    "C= 10\n",
    "#since a number from the MNIST Dataset is 28x28 pixels\n",
    "# we must define row and col\n",
    "img_w = 28 \n",
    "img_h = 28\n",
    "\n",
    "\n",
    "#function for the translation \n",
    "def translate (sv,tm):\n",
    "    \"\"\"\n",
    "    translate an image/matrix using a translation Matrix\n",
    "    Matrix of translation (tm): [[1,0,Tx],[0,1,Ty]\n",
    "    input : sv->Support vector \n",
    "            tm->Matrix of translation\n",
    "    output: a translated support vector         \n",
    "    \"\"\"\n",
    "    translated = cv2.warpAffine(sv, tm, (img_w, img_h))\n",
    "    return translated.reshape(-1)\n"
   ]
  },
  {
   "cell_type": "code",
   "execution_count": 13,
   "metadata": {},
   "outputs": [],
   "source": [
    "## Import and extract MNIST dataset\n"
   ]
  },
  {
   "cell_type": "code",
   "execution_count": 14,
   "metadata": {},
   "outputs": [
    {
     "data": {
      "image/png": "[encoded data removed]",
      "text/plain": [
       "<Figure size 432x288 with 10 Axes>"
      ]
     },
     "metadata": {
      "needs_background": "light"
     },
     "output_type": "display_data"
    }
   ],
   "source": [
    "# loading a 60,000+10,000 handwritten digits, from MNIST database\n",
    "\n",
    "\n",
    "data = np.load(\"mnist.npz\")\n",
    "training_x = data[\"x_train\"].reshape(60000,img_w*img_h)\n",
    "training_y = data[\"y_train\"]\n",
    "test_x = data[\"x_test\"].reshape(10000,img_w*img_h)\n",
    "test_y = data[\"y_test\"]\n",
    "\n",
    "# display the first 10 digits of the dataset to check if it is valid\n",
    "plt.figure(1)\n",
    "for i in range(10):\n",
    "    plt.subplot(2, 5, i+1, title=(\"image \" + str(training_y[i])))\n",
    "    plt.imshow(np.array(training_x[i]).reshape(img_w,img_h))\n",
    "plt.show()\n",
    "    "
   ]
  },
  {
   "cell_type": "code",
   "execution_count": 15,
   "metadata": {},
   "outputs": [],
   "source": [
    "## Initialize SVM objects and translation matrix"
   ]
  },
  {
   "cell_type": "code",
   "execution_count": 16,
   "metadata": {},
   "outputs": [],
   "source": [
    "# initialize our ORIG SVM for initial SVM and VSV for approximation fit\n",
    "ORIG = SVC(C=C, kernel=\"poly\", degree=5, gamma=\"auto\")\n",
    "VSV = SVC(C=C, kernel=\"poly\", degree=5, gamma=\"auto\")\n",
    "\n",
    "new_training_x = []\n",
    "new_training_y = []\n",
    "\n",
    "# initialize transformation matrix to move to 1px in 4 directions\n",
    "tm_left = np.float32([\n",
    "  [1, 0, -1],\n",
    "  [0, 1, 0]\n",
    "]);\n",
    "\n",
    "tm_right = np.float32([\n",
    "  [1, 0, 1],\n",
    "  [0, 1, 0]\n",
    "]);\n",
    "\n",
    "tm_up = np.float32([\n",
    "  [1, 0, 0],\n",
    "  [0, 1, -1]\n",
    "]);\n",
    "\n",
    "tm_down = np.float32([\n",
    "  [1, 0, 0],\n",
    "  [0, 1, 1]\n",
    "]);\n",
    "\n",
    "translation_matrix = [\n",
    "    tm_left, \n",
    "    tm_right, \n",
    "    tm_up, \n",
    "    tm_down]\n"
   ]
  },
  {
   "cell_type": "code",
   "execution_count": 17,
   "metadata": {},
   "outputs": [],
   "source": [
    "## Training the SVM objects"
   ]
  },
  {
   "cell_type": "code",
   "execution_count": 18,
   "metadata": {},
   "outputs": [
    {
     "name": "stdout",
     "output_type": "stream",
     "text": [
      "the trainig time for the ORIG model: 353.6377453804016\n",
      "the trainig time for the VSV model: 417.02598094940186\n"
     ]
    }
   ],
   "source": [
    "# fit the data in the SVM ORIG to train our model and get the supported\n",
    "# vectors to generate articifical dataset for approximation fit\n",
    "startORIG = time.time()\n",
    "\n",
    "ORIG.fit(training_x, training_y)\n",
    "print(\"the trainig time for the ORIG model:\", time.time()-startORIG)\n",
    "\n",
    "# Instead of getting the support vectors, we will use their indices\n",
    "# to retrieve data of MNIST training set at index support vector to\n",
    "# be shifted\n",
    "ORIG_vectors = ORIG.support_\n",
    "\n",
    "# translation of the training set using the generated support vectors of \n",
    "# ORIG.\n",
    "for indice in ORIG_vectors:\n",
    "    sv = np.uint8(training_x[indice]).reshape(img_w, img_h)\n",
    "    y = training_y[indice]\n",
    "    \n",
    "    new_training_x += [translate(sv, tm) for tm in translation_matrix]\n",
    "    new_training_y += [y for i in range(4)]\n",
    "\n",
    "#create virtual support vectors using desired invariance transformation\n",
    "startVSV = time.time()\n",
    "VSV.fit(new_training_x, new_training_y)\n",
    "\n",
    "print(\"the trainig time for the VSV model:\", time.time()-startVSV)"
   ]
  },
  {
   "cell_type": "code",
   "execution_count": 19,
   "metadata": {},
   "outputs": [],
   "source": [
    "## Prediction and analysis"
   ]
  },
  {
   "cell_type": "code",
   "execution_count": 20,
   "metadata": {},
   "outputs": [
    {
     "name": "stdout",
     "output_type": "stream",
     "text": [
      "Classification report for ORIG: \n",
      "               precision    recall  f1-score   support\n",
      "\n",
      "           0       0.96      0.99      0.97       980\n",
      "           1       0.93      0.99      0.96      1135\n",
      "           2       0.98      0.95      0.97      1032\n",
      "           3       0.97      0.97      0.97      1010\n",
      "           4       0.97      0.97      0.97       982\n",
      "           5       0.97      0.95      0.96       892\n",
      "           6       0.97      0.97      0.97       958\n",
      "           7       0.98      0.96      0.97      1028\n",
      "           8       0.96      0.96      0.96       974\n",
      "           9       0.97      0.95      0.96      1009\n",
      "\n",
      "    accuracy                           0.97     10000\n",
      "   macro avg       0.97      0.97      0.97     10000\n",
      "weighted avg       0.97      0.97      0.97     10000\n",
      "\n",
      "\n",
      "Classification report for VSV: \n",
      "               precision    recall  f1-score   support\n",
      "\n",
      "           0       0.98      0.99      0.99       980\n",
      "           1       0.97      0.99      0.98      1135\n",
      "           2       0.98      0.97      0.98      1032\n",
      "           3       0.98      0.99      0.98      1010\n",
      "           4       0.98      0.98      0.98       982\n",
      "           5       0.99      0.97      0.98       892\n",
      "           6       0.99      0.98      0.98       958\n",
      "           7       0.98      0.97      0.98      1028\n",
      "           8       0.97      0.98      0.98       974\n",
      "           9       0.99      0.96      0.97      1009\n",
      "\n",
      "    accuracy                           0.98     10000\n",
      "   macro avg       0.98      0.98      0.98     10000\n",
      "weighted avg       0.98      0.98      0.98     10000\n",
      "\n",
      "ORIG accuracy:  96.58 %\n",
      "VSV accuracy:  97.97 %\n"
     ]
    }
   ],
   "source": [
    "# Prediction using the 10,000 test MNIST dataset\n",
    "ORIG_predictions = ORIG.predict(test_x)\n",
    "VSV_predictions = VSV.predict(test_x)\n",
    "\n",
    "# Generate a classification report to have a full depth analysis \n",
    "# on classification behaviors\n",
    "ORIG_report = classification_report(np.array(test_y), ORIG_predictions)\n",
    "VSV_report = classification_report(np.array(test_y), VSV_predictions)\n",
    "\n",
    "print(\"Classification report for ORIG: \\n\", ORIG_report)\n",
    "print(\"\\nClassification report for VSV: \\n\", VSV_report)\n",
    "\n",
    "# Compare the overall accuracy between ORIG and VSV SVM objects\n",
    "ORIG_accuracy = accuracy_score(np.array(test_y), ORIG_predictions)\n",
    "VSV_accuracy = accuracy_score(np.array(test_y), VSV_predictions)\n",
    "\n",
    "print(\"ORIG accuracy: \", ORIG_accuracy * 100.0, \"%\")\n",
    "print(\"VSV accuracy: \", VSV_accuracy * 100.0, \"%\")\n"
   ]
  },
  {
   "cell_type": "code",
   "execution_count": 21,
   "metadata": {},
   "outputs": [],
   "source": [
    "## Result interpretation \n"
   ]
  },
  {
   "cell_type": "markdown",
   "metadata": {},
   "source": [
    "According to the results obtained above, we observe that the VSV \n",
    "(SVM object using an artificial training set) has a great consistency in precision for each label, oscilating around 98% of precision.\n",
    "\n",
    "\n",
    "The SVM ORIG on the other hand has the worst consistency at label \"1\", with 93% precision. Also, we observe a lack of consistency where the oscilation gap between each label is not negligeable.\n",
    "\n",
    "In the overall accuracy, VSV shows an increase of 1% from the ORIG approach. \n",
    "\n",
    "In conclusion, the approach of the method replicated from the research paper not only has better accuracy, but also adds better consistency to our labelling. We can confirm the validity of the research's paper accuracy improvement"
   ]
  }
 ],
 "metadata": {
  "kernelspec": {
   "display_name": "Python 3",
   "language": "python",
   "name": "python3"
  },
  "language_info": {
   "codemirror_mode": {
    "name": "ipython",
    "version": 3
   },
   "file_extension": ".py",
   "mimetype": "text/x-python",
   "name": "python",
   "nbconvert_exporter": "python",
   "pygments_lexer": "ipython3",
   "version": "3.7.3"
  }
 },
 "nbformat": 4,
 "nbformat_minor": 2
}
